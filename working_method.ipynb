{
 "cells": [
  {
   "cell_type": "code",
   "execution_count": 1,
   "metadata": {},
   "outputs": [],
   "source": [
    "from arguments import parser \n",
    "import torch \n",
    "import numpy as np \n",
    "import pandas as pd \n",
    "import matplotlib.pyplot as plt \n",
    "from sklearn.manifold import TSNE\n",
    "import os \n",
    "from datasets import create_dataset \n",
    "from torch.utils.data import DataLoader\n",
    "from utils.metrics import MetricCalculator, loco_auroc\n",
    "from accelerate import Accelerator\n",
    "from omegaconf import OmegaConf\n",
    "import seaborn as sns \n",
    "from umap import UMAP\n",
    "\n",
    "def prepare(class_name,data_only=False):\n",
    "    os.environ['CUDA_VISIBLE_DEVICES'] = '0' \n",
    "    default_setting = './configs/default/visa.yaml'\n",
    "    model_setting = './configs/model/coreinit.yaml'\n",
    "    cfg = parser(True,default_setting, model_setting)\n",
    "    cfg.DATASET.anomaly_ratio = 0.0\n",
    "    cfg.MODEL.params.sampling_ratio = 0.1\n",
    "    cfg.DATASET.class_name = class_name\n",
    "\n",
    "    trainset, testset = create_dataset(\n",
    "        dataset_name  = cfg.DATASET.dataset_name,\n",
    "        datadir       = cfg.DATASET.datadir,\n",
    "        class_name    = cfg.DATASET.class_name,\n",
    "        img_size      = cfg.DATASET.img_size,\n",
    "        mean          = cfg.DATASET.mean,\n",
    "        std           = cfg.DATASET.std,\n",
    "        aug_info      = cfg.DATASET.aug_info,\n",
    "        **cfg.DATASET.get('params',{})\n",
    "    )\n",
    "\n",
    "    trainloader = DataLoader(\n",
    "            dataset     = trainset,\n",
    "            batch_size  = cfg.DATASET.batch_size,\n",
    "            num_workers = cfg.DATASET.num_workers,\n",
    "            shuffle     = True \n",
    "        )    \n",
    "\n",
    "    testloader = DataLoader(\n",
    "            dataset     = testset,\n",
    "            batch_size  = cfg.DATASET.batch_size,\n",
    "            num_workers = cfg.DATASET.num_workers,\n",
    "            shuffle     = False \n",
    "        )    \n",
    "    acc = Accelerator()\n",
    "    if data_only:\n",
    "        return acc.prepare(trainloader,testloader)\n",
    "    \n",
    "    "
   ]
  },
  {
   "cell_type": "code",
   "execution_count": 25,
   "metadata": {},
   "outputs": [
    {
     "data": {
      "text/plain": [
       "torch.Size([32, 56, 56])"
      ]
     },
     "execution_count": 25,
     "metadata": {},
     "output_type": "execute_result"
    }
   ],
   "source": [
    "s_map.shape"
   ]
  }
 ],
 "metadata": {
  "kernelspec": {
   "display_name": "Python 3",
   "language": "python",
   "name": "python3"
  },
  "language_info": {
   "codemirror_mode": {
    "name": "ipython",
    "version": 3
   },
   "file_extension": ".py",
   "mimetype": "text/x-python",
   "name": "python",
   "nbconvert_exporter": "python",
   "pygments_lexer": "ipython3",
   "version": "3.8.10"
  }
 },
 "nbformat": 4,
 "nbformat_minor": 2
}
