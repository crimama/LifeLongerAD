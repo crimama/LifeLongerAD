{
 "cells": [
  {
   "cell_type": "code",
   "execution_count": 3,
   "metadata": {},
   "outputs": [],
   "source": [
    "import os \n",
    "from glob import glob \n",
    "import numpy as np \n",
    "import pandas as pd \n",
    "\n",
    "def loss_match(log_dirs):    \n",
    "    pattern_name = r\"AUPRC is ([\\d.]+)\"\n",
    "    \"mvtec_grid's Image_Level AUPRC is 80.200000.%\"\n",
    "    losses = [] \n",
    "\n",
    "\n",
    "    for log_dir in log_dirs[::-1]:\n",
    "        with open(log_dir,'r') as f:         \n",
    "            for i, line in enumerate(f):\n",
    "                match = re.search(pattern,line)\n",
    "                    \n",
    "                if match: \n",
    "                    loss_value = match.group(1)\n",
    "                    losses.append(float(loss_value))\n",
    "                    \n",
    "                match = re.search(pattern_name,line)\n",
    "    return losses                 "
   ]
  },
  {
   "cell_type": "code",
   "execution_count": 28,
   "metadata": {},
   "outputs": [],
   "source": [
    "import re \n",
    "log_dir = '/Volume/VAD/LifeLongerAD_cu121/results/MSFR/visa.log'\n",
    "image_pattern = r\"visa_(\\w+)'s Image_Level AUPRC is ([\\d.]+)\"\n",
    "pixel_pattern = r\"visa_(\\w+)'s Full_Pixel_Level AUPRC is ([\\d.]+)\"\n",
    "\n",
    "\n",
    "result = [] \n",
    "with open(log_dir, 'r') as f:\n",
    "    for i, line in enumerate(f):\n",
    "        image_match = re.search(image_pattern,line)        \n",
    "        pixel_match = re.search(pixel_pattern,line)        \n",
    "        \n",
    "        if image_match: \n",
    "            image_name = image_match.group(1)\n",
    "            image_auprc = image_match.group(2)\n",
    "            result.append([image_name,'image',image_auprc])\n",
    "            \n",
    "        if pixel_match:\n",
    "            pixel_name = pixel_match.group(1)\n",
    "            pixel_auprc = pixel_match.group(2)\n",
    "            result.append([pixel_name,'pixel',pixel_auprc])"
   ]
  },
  {
   "cell_type": "code",
   "execution_count": 29,
   "metadata": {},
   "outputs": [],
   "source": [
    "result = pd.DataFrame(result)\n",
    "result[2] = result[2].apply(lambda x : x.rstrip('.')).map(float)/100"
   ]
  },
  {
   "cell_type": "code",
   "execution_count": 31,
   "metadata": {},
   "outputs": [
    {
     "data": {
      "text/plain": [
       "0.91175"
      ]
     },
     "execution_count": 31,
     "metadata": {},
     "output_type": "execute_result"
    }
   ],
   "source": [
    "result.pivot_table(index=0,columns=1,values=2)['pixel'].map(str).map(lambda x : x[:5]).map(float).mean()"
   ]
  },
  {
   "cell_type": "code",
   "execution_count": 7,
   "metadata": {},
   "outputs": [
    {
     "data": {
      "text/plain": [
       "1\n",
       "image    0.749133\n",
       "pixel    0.533548\n",
       "dtype: float64"
      ]
     },
     "execution_count": 7,
     "metadata": {},
     "output_type": "execute_result"
    }
   ],
   "source": [
    "result.pivot_table(index=0,columns=1,values=2).mean()"
   ]
  }
 ],
 "metadata": {
  "kernelspec": {
   "display_name": "base",
   "language": "python",
   "name": "python3"
  },
  "language_info": {
   "codemirror_mode": {
    "name": "ipython",
    "version": 3
   },
   "file_extension": ".py",
   "mimetype": "text/x-python",
   "name": "python",
   "nbconvert_exporter": "python",
   "pygments_lexer": "ipython3",
   "version": "3.11.10"
  }
 },
 "nbformat": 4,
 "nbformat_minor": 2
}
