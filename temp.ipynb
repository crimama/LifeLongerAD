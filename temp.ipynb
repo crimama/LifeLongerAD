{
 "cells": [
  {
   "cell_type": "code",
   "execution_count": 1,
   "metadata": {},
   "outputs": [
    {
     "name": "stdout",
     "output_type": "stream",
     "text": [
      "\n",
      " Experiment Name : CViT_grid_first\n",
      "\n"
     ]
    },
    {
     "name": "stderr",
     "output_type": "stream",
     "text": [
      "Subsampling...: 100%|██████████| 17718/17718 [00:04<00:00, 3864.66it/s]"
     ]
    },
    {
     "name": "stdout",
     "output_type": "stream",
     "text": [
      "Memory bank fit\n"
     ]
    },
    {
     "name": "stderr",
     "output_type": "stream",
     "text": [
      "\n"
     ]
    }
   ],
   "source": [
    "import open_clip \n",
    "from PIL import Image \n",
    "from arguments import parser \n",
    "import torch \n",
    "import torch.nn as nn \n",
    "import numpy as np \n",
    "import pandas as pd \n",
    "import matplotlib.pyplot as plt \n",
    "from sklearn.manifold import TSNE\n",
    "import os \n",
    "from datasets import create_dataset \n",
    "from torch.utils.data import DataLoader\n",
    "from utils.metrics import MetricCalculator, loco_auroc\n",
    "from accelerate import Accelerator\n",
    "from omegaconf import OmegaConf\n",
    "import seaborn as sns \n",
    "from models import LANGCAD \n",
    "\n",
    "os.environ['CUDA_VISIBLE_DEVICES'] = '0' \n",
    "default_setting = './configs/default/visa.yaml'\n",
    "model_setting = './configs/model/LANGCAD.yaml'\n",
    "cfg = parser(True,default_setting, model_setting)\n",
    "\n",
    "\n",
    "model  = __import__('models').__dict__[cfg.MODEL.method](\n",
    "        backbone = cfg.MODEL.backbone,\n",
    "        **cfg.MODEL.params\n",
    "        )\n",
    "device = 'cuda'\n",
    "\n",
    "\n",
    "loader_dict = {}\n",
    "accelerator = Accelerator()\n",
    "for cn in cfg.DATASET.class_names:\n",
    "    trainset, testset = create_dataset(\n",
    "        dataset_name  = cfg.DATASET.dataset_name,\n",
    "        datadir       = cfg.DATASET.datadir,\n",
    "        class_name    = cn,\n",
    "        img_size      = cfg.DATASET.img_size,\n",
    "        mean          = cfg.DATASET.mean,\n",
    "        std           = cfg.DATASET.std,\n",
    "        aug_info      = cfg.DATASET.aug_info,\n",
    "        **cfg.DATASET.get('params',{})\n",
    "    )\n",
    "    trainloader = DataLoader(\n",
    "        dataset     = trainset,\n",
    "        batch_size  = cfg.DATASET.batch_size,\n",
    "        num_workers = cfg.DATASET.num_workers,\n",
    "        shuffle     = True \n",
    "    )    \n",
    "\n",
    "    testloader = DataLoader(\n",
    "            dataset     = testset,\n",
    "            batch_size  = cfg.DATASET.batch_size,\n",
    "            num_workers = cfg.DATASET.num_workers,\n",
    "            shuffle     = False \n",
    "        )    \n",
    "    \n",
    "    loader_dict[cn] = {'train':trainloader,'test':testloader}\n",
    "    \n",
    "    pool = [] \n",
    "    model, trainloader, testloader = accelerator.prepare(model, trainloader, testloader)\n",
    "    for imgs, img_dirs in trainloader:\n",
    "        features = model.embed(imgs)\n",
    "        pool.append(\n",
    "            features.detach().cpu().numpy()\n",
    "        )\n",
    "    pool = np.concatenate(pool)   \n",
    "    knowledge = model.fit(pool)\n",
    "    model.pool.get_knowledge(cn, knowledge)\n",
    "    break "
   ]
  },
  {
   "cell_type": "code",
   "execution_count": 3,
   "metadata": {},
   "outputs": [],
   "source": [
    "from utils.metrics import MetricCalculator\n",
    "\n",
    "model.eval()\n",
    "img_level = MetricCalculator(metric_list = ['auroc','average_precision'])\n",
    "pix_level = MetricCalculator(metric_list = ['auroc','average_precision'])    \n",
    "\n",
    "\n",
    "for imgs, labels, gts in testloader:\n",
    "    s, score, score_map  = model.predict(imgs)\n",
    "    pix_level.update(score_map,gts.type(torch.int))\n",
    "    img_level.update(score, labels.type(torch.int))\n",
    "\n",
    "p_results = pix_level.compute()\n",
    "i_results = img_level.compute()\n",
    "    "
   ]
  }
 ],
 "metadata": {
  "kernelspec": {
   "display_name": "Python 3",
   "language": "python",
   "name": "python3"
  },
  "language_info": {
   "codemirror_mode": {
    "name": "ipython",
    "version": 3
   },
   "file_extension": ".py",
   "mimetype": "text/x-python",
   "name": "python",
   "nbconvert_exporter": "python",
   "pygments_lexer": "ipython3",
   "version": "3.8.10"
  }
 },
 "nbformat": 4,
 "nbformat_minor": 2
}
