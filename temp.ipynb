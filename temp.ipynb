{
 "cells": [
  {
   "cell_type": "code",
   "execution_count": 2,
   "metadata": {},
   "outputs": [
    {
     "name": "stdout",
     "output_type": "stream",
     "text": [
      "\n",
      " Experiment Name : contrastive with only hard negative + lr 0.005 more epoch\n",
      "\n"
     ]
    }
   ],
   "source": [
    "import os \n",
    "from PIL import Image \n",
    "from arguments import parser \n",
    "import torch \n",
    "import torch.nn as nn \n",
    "import numpy as np \n",
    "import pandas as pd \n",
    "import matplotlib.pyplot as plt \n",
    "from sklearn.manifold import TSNE\n",
    "from datasets import create_dataset \n",
    "from torch.utils.data import DataLoader\n",
    "from utils.metrics import MetricCalculator, loco_auroc\n",
    "from accelerate import Accelerator\n",
    "from omegaconf import OmegaConf\n",
    "import seaborn as sns \n",
    "from models import LANGCAD \n",
    "from main import load_caption\n",
    "import open_clip \n",
    "\n",
    "os.environ['CUDA_VISIBLE_DEVICES'] = '0' \n",
    "default_setting = './configs/default/mvtecad.yaml'\n",
    "model_setting = './configs/model/LANGCAD.yaml'\n",
    "cfg = parser(True,default_setting, model_setting)\n",
    "\n",
    "\n",
    "model  = __import__('models').__dict__[cfg.MODEL.method](\n",
    "        backbone = cfg.MODEL.backbone,\n",
    "        **cfg.MODEL.params\n",
    "        )\n",
    "device = 'cuda'\n",
    "\n",
    "caption_dict = load_caption(\n",
    "        datadir     = cfg.DATASET.datadir,\n",
    "        dataset     = cfg.DATASET.dataset_name,\n",
    "        class_names = cfg.DATASET.class_names\n",
    "    )\n",
    "\n",
    "loader_dict = {}\n",
    "accelerator = Accelerator()\n",
    "for cn in cfg.DATASET.class_names:\n",
    "    trainset, testset = create_dataset(\n",
    "        dataset_name  = cfg.DATASET.dataset_name,\n",
    "        datadir       = cfg.DATASET.datadir,\n",
    "        class_name    = cn,\n",
    "        caption_dict  = caption_dict, \n",
    "        img_size      = cfg.DATASET.img_size,\n",
    "        mean          = cfg.DATASET.mean,\n",
    "        std           = cfg.DATASET.std,\n",
    "        aug_info      = cfg.DATASET.aug_info,\n",
    "        **cfg.DATASET.get('params',{})\n",
    "    )\n",
    "    trainloader = DataLoader(\n",
    "        dataset     = trainset,\n",
    "        batch_size  = cfg.DATASET.batch_size,\n",
    "        num_workers = cfg.DATASET.num_workers,\n",
    "        shuffle     = True \n",
    "    )    \n",
    "\n",
    "    testloader = DataLoader(\n",
    "            dataset     = testset,\n",
    "            batch_size  = 8,\n",
    "            num_workers = cfg.DATASET.num_workers,\n",
    "            shuffle     = False \n",
    "        )    \n",
    "    \n",
    "    loader_dict[cn] = {'train':trainloader,'test':testloader}    "
   ]
  },
  {
   "cell_type": "code",
   "execution_count": 6,
   "metadata": {},
   "outputs": [],
   "source": [
    "cln = 'screw'\n",
    "\n",
    "model, trainloader = accelerator.prepare(model, loader_dict[cln]['train'])\n",
    "\n",
    "for imgs, pos, neg in trainloader:\n",
    "    break "
   ]
  },
  {
   "cell_type": "code",
   "execution_count": 15,
   "metadata": {},
   "outputs": [
    {
     "name": "stdout",
     "output_type": "stream",
     "text": [
      "Load done\n"
     ]
    }
   ],
   "source": [
    "model.pool.load_pool('/Volume/VAD/LifeLongerAD/results/LANGCAD/MVTecAD/contrastive with only hard negative + lr 0.005 + no margin/seed_0/last_pool.pth')"
   ]
  },
  {
   "cell_type": "code",
   "execution_count": 18,
   "metadata": {},
   "outputs": [
    {
     "data": {
      "text/plain": [
       "(90, 768)"
      ]
     },
     "execution_count": 18,
     "metadata": {},
     "output_type": "execute_result"
    }
   ],
   "source": [
    "np.vstack(model.pool.prompts).shape"
   ]
  },
  {
   "cell_type": "code",
   "execution_count": 31,
   "metadata": {},
   "outputs": [],
   "source": [
    "import torch.nn.functional as F \n",
    "def contrastive_loss_with_hard_negatives(image_embeddings, pos_text_embeddings, hard_neg_text_embeddings, temperature=0.1):\n",
    "    # Normalize embeddings\n",
    "    image_embeddings = F.normalize(image_embeddings, p=2, dim=1)\n",
    "    pos_text_embeddings = F.normalize(pos_text_embeddings, p=2, dim=1)\n",
    "    hard_neg_text_embeddings = F.normalize(hard_neg_text_embeddings, p=2, dim=1)\n",
    "    \n",
    "    # Positive logits (in-batch pairs)\n",
    "    pos_logits = torch.matmul(image_embeddings, pos_text_embeddings.T).diag().view(-1, 1) / temperature\n",
    "    \n",
    "    # In-batch negative logits\n",
    "    in_batch_neg_logits = torch.matmul(image_embeddings, pos_text_embeddings.T) / temperature\n",
    "    in_batch_neg_logits.fill_diagonal_(-float('inf'))  # Mask positive pairs\n",
    "    \n",
    "    # Hard negative logits (cross-modal negatives)\n",
    "    hard_neg_logits = torch.matmul(image_embeddings, hard_neg_text_embeddings.T) / temperature\n",
    "    \n",
    "    # Concatenate positive, in-batch negative, and hard negative logits\n",
    "    logits = torch.cat([pos_logits, in_batch_neg_logits, hard_neg_logits], dim=1)\n",
    "    \n",
    "    # Create labels for cross-entropy loss (positive is at index 0)\n",
    "    labels = torch.zeros(image_embeddings.size(0)).long().to(image_embeddings.device)\n",
    "    \n",
    "    # Calculate cross-entropy loss\n",
    "    loss = F.cross_entropy(logits, labels)\n",
    "    \n",
    "    return loss"
   ]
  },
  {
   "cell_type": "code",
   "execution_count": 32,
   "metadata": {},
   "outputs": [],
   "source": [
    "loss = contrastive_loss_with_hard_negatives(img_features,pos_features,neg_features)"
   ]
  },
  {
   "cell_type": "code",
   "execution_count": 34,
   "metadata": {},
   "outputs": [],
   "source": [
    "loss.backward()"
   ]
  }
 ],
 "metadata": {
  "kernelspec": {
   "display_name": "Python 3",
   "language": "python",
   "name": "python3"
  },
  "language_info": {
   "codemirror_mode": {
    "name": "ipython",
    "version": 3
   },
   "file_extension": ".py",
   "mimetype": "text/x-python",
   "name": "python",
   "nbconvert_exporter": "python",
   "pygments_lexer": "ipython3",
   "version": "3.8.10"
  }
 },
 "nbformat": 4,
 "nbformat_minor": 2
}
