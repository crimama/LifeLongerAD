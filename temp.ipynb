{
 "cells": [
  {
   "cell_type": "code",
   "execution_count": 1,
   "metadata": {},
   "outputs": [
    {
     "name": "stdout",
     "output_type": "stream",
     "text": [
      "\n",
      " Experiment Name : Baseline-identity-sampling_ratio_0.1-anomaly_ratio_0.0\n",
      "\n"
     ]
    }
   ],
   "source": [
    "from arguments import parser \n",
    "import torch \n",
    "import torch.nn as nn \n",
    "import numpy as np \n",
    "import pandas as pd \n",
    "import matplotlib.pyplot as plt \n",
    "from sklearn.manifold import TSNE\n",
    "import os \n",
    "from datasets import create_dataset \n",
    "from torch.utils.data import DataLoader\n",
    "from utils.metrics import MetricCalculator, loco_auroc\n",
    "from accelerate import Accelerator\n",
    "from omegaconf import OmegaConf\n",
    "import seaborn as sns \n",
    "from umap import UMAP\n",
    "\n",
    "os.environ['CUDA_VISIBLE_DEVICES'] = '0' \n",
    "default_setting = './configs/default/mvtecad.yaml'\n",
    "model_setting = './configs/model/patchcore.yaml'\n",
    "cfg = parser(True,default_setting, model_setting)\n",
    "cfg.DATASET.anomaly_ratio = 0.0\n",
    "cfg.MODEL.params.sampling_ratio = 0.1\n",
    "\n",
    "trainset, testset = create_dataset(\n",
    "    dataset_name  = cfg.DATASET.dataset_name,\n",
    "    datadir       = cfg.DATASET.datadir,\n",
    "    class_name    = cfg.DATASET.class_name,\n",
    "    img_size      = cfg.DATASET.img_size,\n",
    "    mean          = cfg.DATASET.mean,\n",
    "    std           = cfg.DATASET.std,\n",
    "    aug_info      = cfg.DATASET.aug_info,\n",
    "    **cfg.DATASET.get('params',{})\n",
    ")\n",
    "\n",
    "trainloader = DataLoader(\n",
    "        dataset     = trainset,\n",
    "        batch_size  = cfg.DATASET.batch_size,\n",
    "        num_workers = cfg.DATASET.num_workers,\n",
    "        shuffle     = True \n",
    "    )    \n",
    "\n",
    "testloader = DataLoader(\n",
    "        dataset     = testset,\n",
    "        batch_size  = cfg.DATASET.batch_size,\n",
    "        num_workers = cfg.DATASET.num_workers,\n",
    "        shuffle     = False \n",
    "    )    \n",
    "accelerator = Accelerator()\n",
    "\n",
    "model  = __import__('models').__dict__[cfg.MODEL.method](\n",
    "            backbone = cfg.MODEL.backbone,\n",
    "            **cfg.MODEL.params\n",
    "            )\n"
   ]
  },
  {
   "cell_type": "code",
   "execution_count": 2,
   "metadata": {},
   "outputs": [
    {
     "name": "stderr",
     "output_type": "stream",
     "text": [
      "Subsampling...: 100%|██████████| 4704/4704 [00:00<00:00, 5241.34it/s]\n"
     ]
    }
   ],
   "source": [
    "featureloader = accelerator.prepare(model.get_feature_loader(trainloader))\n",
    "features = [] \n",
    "for feat, target in featureloader:\n",
    "    features.append(feat.detach().cpu().numpy())            \n",
    "features = np.vstack(features)\n",
    "\n",
    "model.core.featuresampler.percentage = cfg.MODEL.params.pslabel_sampling_ratio\n",
    "proxy, _ = model.core.featuresampler.run(features)\n",
    "model.core.featuresampler.percentage = cfg.MODEL.params.sampling_ratio\n",
    "\n",
    "#! 가장 기본 distance matrix 계산 방법 \n",
    "\n",
    "if cfg.DATASET.pseudo_label == 'coreset':\n",
    "    # distmat = torch.matmul(torch.Tensor(features),torch.Tensor(proxy).T)\n",
    "    proxy_label = [] \n",
    "    for feat,_ in featureloader:\n",
    "        proxy_label.append(torch.matmul(feat,torch.Tensor(proxy).to(feat.device).T).argmax(dim=1))\n",
    "    proxy_label = torch.concat(proxy_label)\n",
    "    \n",
    "elif cfg.DATASET.pseudo_label == 'normalize_coreset':\n",
    "    proxy = nn.functional.normalize(torch.Tensor(proxy),dim=1)\n",
    "    #distmat = torch.matmul(torch.Tensor(features),proxy.T)\n",
    "    proxy_label = [] \n",
    "    for feat,_ in featureloader:\n",
    "        proxy_label.append(torch.matmul(feat,proxy.T.to(feat.device)).argmax(dim=1))\n",
    "    proxy_label = torch.concat(proxy_label)\n",
    "else:\n",
    "    raise NotImplementedError        \n",
    "\n",
    "\n",
    "featureloader.dataset.labels = proxy_label\n",
    "\n",
    "model.set_criterion(proxy)\n",
    "model = accelerator.prepare(model)"
   ]
  },
  {
   "cell_type": "code",
   "execution_count": 3,
   "metadata": {},
   "outputs": [],
   "source": [
    "for idx, (feat, target) in enumerate(featureloader):\n",
    "    \n",
    "    #! augmentation \n",
    "    if cfg.DATASET.embed_augemtation:\n",
    "        feat = feat + torch.randn(feat.shape).to(feat.device)        \n",
    "    \n",
    "    # predict\n",
    "    outputs = model(feat.to(accelerator.device)) # outputs = [z,w]\n",
    "    loss   = model.criterion([outputs, target],reduction=False)\n",
    "    break "
   ]
  },
  {
   "cell_type": "code",
   "execution_count": 1,
   "metadata": {},
   "outputs": [],
   "source": [
    "import pandas as pd \n",
    "with open('cutmixup_concat.txt','r') as f: \n",
    "    cutmixup_concat = pd.DataFrame([eval(d) for d in f.readlines()])\n",
    "with open('mixup_conjconcat.txt','r') as f: \n",
    "    mixup_conjconcat = pd.DataFrame([eval(d) for d in f.readlines()])\n",
    "    "
   ]
  },
  {
   "cell_type": "code",
   "execution_count": 3,
   "metadata": {},
   "outputs": [],
   "source": [
    "cutmixup_concat['method'] = 'cutmixup_concat'\n",
    "mixup_conjconcat['method'] = 'mixup_conjconcat'"
   ]
  },
  {
   "cell_type": "code",
   "execution_count": 4,
   "metadata": {},
   "outputs": [],
   "source": [
    "df = pd.concat([cutmixup_concat,mixup_conjconcat])"
   ]
  },
  {
   "cell_type": "code",
   "execution_count": 9,
   "metadata": {},
   "outputs": [
    {
     "data": {
      "text/plain": [
       "<AxesSubplot:xlabel='pertur', ylabel='test_r_mean'>"
      ]
     },
     "execution_count": 9,
     "metadata": {},
     "output_type": "execute_result"
    },
    {
     "data": {
      "image/png": "[encoded data removed]",
      "text/plain": [
       "<Figure size 1440x720 with 1 Axes>"
      ]
     },
     "metadata": {
      "needs_background": "light"
     },
     "output_type": "display_data"
    }
   ],
   "source": [
    "import seaborn as sns \n",
    "import matplotlib.pyplot as plt \n",
    "\n",
    "plt.figure(figsize=(20,10))\n",
    "sns.barplot(\n",
    "    x = 'pertur',\n",
    "    y = 'test_r_mean',\n",
    "    hue = 'method',\n",
    "    data = df \n",
    ")"
   ]
  }
 ],
 "metadata": {
  "kernelspec": {
   "display_name": "Python 3",
   "language": "python",
   "name": "python3"
  },
  "language_info": {
   "codemirror_mode": {
    "name": "ipython",
    "version": 3
   },
   "file_extension": ".py",
   "mimetype": "text/x-python",
   "name": "python",
   "nbconvert_exporter": "python",
   "pygments_lexer": "ipython3",
   "version": "3.8.10"
  }
 },
 "nbformat": 4,
 "nbformat_minor": 2
}
