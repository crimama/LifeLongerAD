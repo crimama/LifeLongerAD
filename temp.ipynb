{
 "cells": [
  {
   "cell_type": "code",
   "execution_count": 4,
   "metadata": {},
   "outputs": [
    {
     "name": "stdout",
     "output_type": "stream",
     "text": [
      "\n",
      " Experiment Name : .-Continual_True-online_False\n",
      "\n"
     ]
    }
   ],
   "source": [
    "import os \n",
    "from PIL import Image \n",
    "from arguments import parser \n",
    "import torch \n",
    "import torch.nn as nn \n",
    "import torch.nn.functional as F \n",
    "import numpy as np \n",
    "import pandas as pd \n",
    "import matplotlib.pyplot as plt \n",
    "from sklearn.manifold import TSNE\n",
    "from datasets import create_dataset \n",
    "from torch.utils.data import DataLoader\n",
    "from utils.metrics import MetricCalculator, loco_auroc\n",
    "from accelerate import Accelerator\n",
    "from omegaconf import OmegaConf\n",
    "import seaborn as sns \n",
    "from main import torch_seed\n",
    "\n",
    "\n",
    "torch_seed(42)\n",
    "os.environ['CUDA_VISIBLE_DEVICES'] = '0' \n",
    "default_setting = './configs/default/mvtecad.yaml'\n",
    "model_setting = './configs/model/cfgcad.yaml'\n",
    "cfg = parser(True,default_setting, model_setting)\n",
    "\n",
    "\n",
    "model  = __import__('models').__dict__[cfg.MODEL.method](\n",
    "        backbone = cfg.MODEL.backbone,\n",
    "        **cfg.MODEL.params\n",
    "        ).to('cuda')\n",
    "device = 'cuda'\n",
    "\n",
    "\n",
    "loader_dict = {}\n",
    "accelerator = Accelerator()\n",
    "for cn in cfg.DATASET.class_names:\n",
    "    trainset, testset = create_dataset(\n",
    "        dataset_name  = cfg.DATASET.dataset_name,\n",
    "        datadir       = cfg.DATASET.datadir,\n",
    "        class_name    = cn,\n",
    "        img_size      = cfg.DATASET.img_size,\n",
    "        mean          = cfg.DATASET.mean,\n",
    "        std           = cfg.DATASET.std,\n",
    "        aug_info      = cfg.DATASET.aug_info,\n",
    "        **cfg.DATASET.get('params',{})\n",
    "    )\n",
    "    trainloader = DataLoader(\n",
    "        dataset     = trainset,\n",
    "        batch_size  = cfg.DATASET.batch_size,\n",
    "        num_workers = cfg.DATASET.num_workers,\n",
    "        shuffle     = True \n",
    "    )    \n",
    "\n",
    "    testloader = DataLoader(\n",
    "            dataset     = testset,\n",
    "            batch_size  = 8,\n",
    "            num_workers = cfg.DATASET.num_workers,\n",
    "            shuffle     = False \n",
    "        )    \n",
    "    \n",
    "    loader_dict[cn] = {'train':trainloader,'test':testloader}    "
   ]
  },
  {
   "cell_type": "code",
   "execution_count": 5,
   "metadata": {},
   "outputs": [],
   "source": [
    "model = model.cuda()\n",
    "back = model.backbone \n",
    "neck = model.neck \n",
    "rec = model.reconstruction "
   ]
  },
  {
   "cell_type": "code",
   "execution_count": 6,
   "metadata": {},
   "outputs": [],
   "source": [
    "with torch.no_grad():\n",
    "    for images, labels, clslabel in trainloader: \n",
    "        Input = {'image':images.to('cuda'),'clslabel':clslabel.to('cuda')}\n",
    "        \n",
    "        Output = back(Input)\n",
    "        Input.update(Output)\n",
    "        \n",
    "        Output = neck(Input)\n",
    "        Input.update(Output)\n",
    "        \n",
    "        # Output = rec(Input,clslabel.to('cuda'))\n",
    "        # Input.update(Output)\n",
    "        \n",
    "        break "
   ]
  },
  {
   "cell_type": "code",
   "execution_count": 8,
   "metadata": {},
   "outputs": [],
   "source": [
    "feature_align = Input['feature_align']\n",
    "self = rec \n",
    "src, pos_embed = self.forward_pre(feature_align)"
   ]
  },
  {
   "cell_type": "code",
   "execution_count": 17,
   "metadata": {},
   "outputs": [],
   "source": []
  },
  {
   "cell_type": "code",
   "execution_count": 12,
   "metadata": {},
   "outputs": [
    {
     "data": {
      "text/plain": [
       "torch.Size([16, 256])"
      ]
     },
     "execution_count": 12,
     "metadata": {},
     "output_type": "execute_result"
    }
   ],
   "source": [
    "task_embedding.shape"
   ]
  },
  {
   "cell_type": "code",
   "execution_count": 16,
   "metadata": {},
   "outputs": [
    {
     "data": {
      "text/plain": [
       "torch.Size([32, 256])"
      ]
     },
     "execution_count": 16,
     "metadata": {},
     "output_type": "execute_result"
    }
   ],
   "source": []
  }
 ],
 "metadata": {
  "kernelspec": {
   "display_name": "Python 3",
   "language": "python",
   "name": "python3"
  },
  "language_info": {
   "codemirror_mode": {
    "name": "ipython",
    "version": 3
   },
   "file_extension": ".py",
   "mimetype": "text/x-python",
   "name": "python",
   "nbconvert_exporter": "python",
   "pygments_lexer": "ipython3",
   "version": "3.11.10"
  }
 },
 "nbformat": 4,
 "nbformat_minor": 2
}
